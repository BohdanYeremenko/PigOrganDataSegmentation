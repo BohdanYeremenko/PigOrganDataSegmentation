{
 "cells": [
  {
   "cell_type": "code",
   "execution_count": 1,
   "metadata": {},
   "outputs": [],
   "source": [
    "import json\n",
    "with open(\"F:/Dataset/coco training/26/annotations/instances_default.json\") as f: # Here you will put dataset to what you want to add new patient\n",
    "    data = json.load(f)"
   ]
  },
  {
   "cell_type": "code",
   "execution_count": 2,
   "metadata": {},
   "outputs": [
    {
     "name": "stdout",
     "output_type": "stream",
     "text": [
      "[{'id': 1, 'name': 'Left Kidney', 'supercategory': ''}, {'id': 2, 'name': 'Right Kidney', 'supercategory': ''}, {'id': 3, 'name': 'Liver', 'supercategory': ''}, {'id': 4, 'name': 'Portal Vein', 'supercategory': ''}, {'id': 5, 'name': 'Vena Cava', 'supercategory': ''}, {'id': 6, 'name': 'Aorta', 'supercategory': ''}, {'id': 7, 'name': 'Hearth', 'supercategory': ''}, {'id': 8, 'name': 'Thoracic Cavity', 'supercategory': ''}, {'id': 9, 'name': 'Heart', 'supercategory': ''}]\n"
     ]
    }
   ],
   "source": [
    "print(data['categories'])"
   ]
  },
  {
   "cell_type": "code",
   "execution_count": 3,
   "metadata": {},
   "outputs": [
    {
     "name": "stdout",
     "output_type": "stream",
     "text": [
      "counter=  369\n"
     ]
    }
   ],
   "source": [
    "IDOfAnotatedCathegory=[1,2,9,3] # For this parametrs it is Left Kidney, Right Kidney and Heart ( According to id in data['categories'])\n",
    "helper=data['annotations']\n",
    "counter=0\n",
    "for i in range(len(helper)):\n",
    "    if data['annotations'][i]['category_id']==1 or data['annotations'][i]['category_id']==IDOfAnotatedCathegory[1] or data['annotations'][i]['category_id']==IDOfAnotatedCathegory[2]:\n",
    "        # i dont know, but for category_id==7 there are nothing, but in fact we have anotation of hearth \n",
    "        #print('ok',  data['annotations'][i]['category_id'])\n",
    "        counter=counter+1\n",
    "print('counter= ', counter)"
   ]
  },
  {
   "cell_type": "code",
   "execution_count": 4,
   "metadata": {},
   "outputs": [
    {
     "name": "stdout",
     "output_type": "stream",
     "text": [
      "dict_keys(['licenses', 'info', 'categories', 'images', 'annotations'])\n"
     ]
    }
   ],
   "source": [
    "print(data.keys())"
   ]
  },
  {
   "cell_type": "code",
   "execution_count": 5,
   "metadata": {},
   "outputs": [
    {
     "name": "stdout",
     "output_type": "stream",
     "text": [
      "<class 'dict'>\n",
      "<class 'list'>\n"
     ]
    }
   ],
   "source": [
    "print(type(data))\n",
    "print(type(data[\"categories\"]))"
   ]
  },
  {
   "cell_type": "code",
   "execution_count": 6,
   "metadata": {},
   "outputs": [
    {
     "data": {
      "text/plain": [
       "dict_keys(['licenses', 'info', 'categories', 'images', 'annotations'])"
      ]
     },
     "execution_count": 6,
     "metadata": {},
     "output_type": "execute_result"
    }
   ],
   "source": [
    "data_out = {}\n",
    "data.keys()"
   ]
  },
  {
   "cell_type": "code",
   "execution_count": 7,
   "metadata": {
    "colab": {
     "base_uri": "https://localhost:8080/"
    },
    "id": "vuFnilDjVT4Z",
    "outputId": "2f86e71c-83d5-4932-832f-db521e762944"
   },
   "outputs": [],
   "source": [
    "data_out = dict() #new dictionary\n",
    "data_out[\"licenses\"] = data[\"licenses\"]\n",
    "data_out[\"info\"] = data[\"info\"]\n",
    "data_out[\"categories\"]=[]\n",
    "data_out[\"images\"] = data[\"images\"]\n",
    "data_out[\"annotations\"] = []\n",
    "data.keys()\n",
    "dataFin={}"
   ]
  },
  {
   "cell_type": "code",
   "execution_count": 8,
   "metadata": {
    "colab": {
     "base_uri": "https://localhost:8080/"
    },
    "id": "Cxqwn3CDV9JY",
    "outputId": "d8839b7f-613e-4f7c-a7ec-ada846ba47d7"
   },
   "outputs": [
    {
     "name": "stdout",
     "output_type": "stream",
     "text": [
      "[{'id': 1, 'name': 'Left Kidney', 'supercategory': ''}, {'id': 2, 'name': 'Right Kidney', 'supercategory': ''}, {'id': 3, 'name': 'Liver', 'supercategory': ''}, {'id': 4, 'name': 'Portal Vein', 'supercategory': ''}, {'id': 5, 'name': 'Vena Cava', 'supercategory': ''}, {'id': 6, 'name': 'Aorta', 'supercategory': ''}, {'id': 7, 'name': 'Hearth', 'supercategory': ''}, {'id': 8, 'name': 'Thoracic Cavity', 'supercategory': ''}, {'id': 9, 'name': 'Heart', 'supercategory': ''}]\n"
     ]
    }
   ],
   "source": [
    "print(data['categories'])"
   ]
  },
  {
   "cell_type": "code",
   "execution_count": 9,
   "metadata": {},
   "outputs": [
    {
     "name": "stdout",
     "output_type": "stream",
     "text": [
      "0\n",
      "1\n",
      "2\n",
      "3\n",
      "[{}, {}, {}, {}]\n"
     ]
    }
   ],
   "source": [
    "trainingCathegories=4\n",
    "for i in range(trainingCathegories):\n",
    "    print(i)\n",
    "    data_out['categories'].append(dict())\n",
    "print(data_out['categories'])"
   ]
  },
  {
   "cell_type": "code",
   "execution_count": 10,
   "metadata": {},
   "outputs": [],
   "source": [
    "def NumberOfSegmantationedElemetns(data,IDOfAnotatedCathegory):\n",
    "    helper=data['annotations']\n",
    "    counter=0\n",
    "    for i in range(len(helper)):\n",
    "        if data['annotations'][i]['category_id']==IDOfAnotatedCathegory[0] or data['annotations'][i]['category_id']==IDOfAnotatedCathegory[1] or data['annotations'][i]['category_id']==IDOfAnotatedCathegory[2] or data['annotations'][i]['category_id']==IDOfAnotatedCathegory[3]:\n",
    "        # i dont know, but for category_id==7 there are nothing, but in fact we have anotation of hearth \n",
    "        #print('ok',  data['annotations'][i]['category_id'])\n",
    "            counter=counter+1\n",
    "    print('counter= ', counter)\n",
    "    return(counter)"
   ]
  },
  {
   "cell_type": "code",
   "execution_count": 11,
   "metadata": {},
   "outputs": [
    {
     "name": "stdout",
     "output_type": "stream",
     "text": [
      "counter=  833\n"
     ]
    }
   ],
   "source": [
    "\n",
    "\n",
    "NeededAnotations=NumberOfSegmantationedElemetns(data,IDOfAnotatedCathegory)\n",
    "for i in range(NeededAnotations):\n",
    "    #print(i)\n",
    "    data_out['annotations'].append(dict())\n",
    "#print(data_out['annotations'])"
   ]
  },
  {
   "cell_type": "code",
   "execution_count": 23,
   "metadata": {},
   "outputs": [],
   "source": [
    "magic=data[\"categories\"]\n",
    "#print(\"zzzzz\", data[\"categories\"][0])\n",
    "counter=0;\n",
    "for i in range(len(magic)):\n",
    "    #print('i =', i)\n",
    "    #print(data[\"categories\"][i]['name'])\n",
    "    if data[\"categories\"][i]['name']==\"Left Kidney\" or data[\"categories\"][i]['name']==\"Liver\" or data[\"categories\"][i]['name']==\"Heart\" or data[\"categories\"][i]['name']==\"Right Kidney\":\n",
    "        #print(\"ok\")\n",
    "        #print(data[\"categories\"][i])\n",
    "        data_out['categories'][counter]=(data[\"categories\"][i])\n",
    "        #data_out['categories'][counter+1]['id']=counter\n",
    "        counter=counter+1\n",
    "#print(data_out['categories'])\n"
   ]
  },
  {
   "cell_type": "code",
   "execution_count": 27,
   "metadata": {
    "id": "D206_5OyWdYr"
   },
   "outputs": [],
   "source": [
    "magic2=data[\"annotations\"]\n",
    "#print(\"zzzzz\", data[\"annotations\"][0])\n",
    "counter=0;\n",
    "for i in range(len(magic2)):\n",
    "    #print('i =', i)\n",
    "    #print(data[\"categories\"][i]['name'])\n",
    "    if data['annotations'][i]['category_id'] in IDOfAnotatedCathegory:\n",
    "        #print(data['annotations'][i]['category_id'])\n",
    "        #print(data[\"categories\"][i])\n",
    "        data_out['annotations'][counter]=(data[\"annotations\"][i])\n",
    "        #data_out['categories'][counter]['id']=counter\n",
    "        counter=counter+1\n",
    "#print(data_out['annotations'])\n"
   ]
  },
  {
   "cell_type": "code",
   "execution_count": 25,
   "metadata": {},
   "outputs": [],
   "source": [
    "#code how to add new patient - start.\n",
    "with open(\"F:\\Dataset/coco training/28/annotations/instances_default.json\") as f:\n",
    "    data2 = json.load(f) # druhy soubor dat\n"
   ]
  },
  {
   "cell_type": "code",
   "execution_count": 28,
   "metadata": {},
   "outputs": [],
   "source": [
    "magic2=data2[\"annotations\"]\n",
    "#print(\"zzzzz\", data[\"annotations\"][0])\n",
    "counter=0;\n",
    "for i in range(len(magic2)):\n",
    "    #print('i =', i)\n",
    "    #print(data[\"categories\"][i]['name'])\n",
    "    if data['annotations'][i]['category_id'] in IDOfAnotatedCathegory:\n",
    "        #print(data[\"categories\"][i])\n",
    "        data_out['annotations'].append(data[\"annotations\"][i])\n",
    "        #data_out['categories'][counter]['id']=counter\n",
    "        counter=counter+1\n",
    "#print(data_out['annotations'])"
   ]
  },
  {
   "cell_type": "code",
   "execution_count": 16,
   "metadata": {},
   "outputs": [],
   "source": [
    "data_out[\"images\"].append(data2[\"images\"])\n",
    "#code how to add new patient - end."
   ]
  },
  {
   "cell_type": "code",
   "execution_count": 29,
   "metadata": {},
   "outputs": [],
   "source": [
    "with open(\"F:\\Dataset/coco training/32/annotations/instances_default.json\") as f:\n",
    "    data3 = json.load(f) # 3 dataset. Unfortunatelly we need to add them one by one in our queue.   "
   ]
  },
  {
   "cell_type": "code",
   "execution_count": 30,
   "metadata": {},
   "outputs": [],
   "source": [
    "magic3=data3[\"annotations\"]\n",
    "#print(\"zzzzz\", data[\"annotations\"][0])\n",
    "counter=0;\n",
    "for i in range(len(magic3)):\n",
    "    #print('i =', i)\n",
    "    #print(data[\"categories\"][i]['name'])\n",
    "    if data['annotations'][i]['category_id'] in IDOfAnotatedCathegory:\n",
    "        #print(data[\"categories\"][i])\n",
    "        data_out['annotations'].append(data[\"annotations\"][i])\n",
    "        #data_out['categories'][counter]['id']=counter\n",
    "        counter=counter+1\n",
    "#print(data_out['annotations'])"
   ]
  },
  {
   "cell_type": "code",
   "execution_count": 19,
   "metadata": {},
   "outputs": [],
   "source": [
    "data_out[\"images\"].append(data3[\"images\"])"
   ]
  },
  {
   "cell_type": "code",
   "execution_count": null,
   "metadata": {},
   "outputs": [],
   "source": [
    "#Here you will all code for adding new information from new patient."
   ]
  },
  {
   "cell_type": "code",
   "execution_count": 20,
   "metadata": {},
   "outputs": [
    {
     "name": "stdout",
     "output_type": "stream",
     "text": [
      "dict_keys(['licenses', 'info', 'categories', 'images', 'annotations'])\n"
     ]
    }
   ],
   "source": [
    "print(data_out.keys())"
   ]
  },
  {
   "cell_type": "code",
   "execution_count": 21,
   "metadata": {},
   "outputs": [],
   "source": [
    "EntirePatient=json.dumps(data_out, indent=5)"
   ]
  },
  {
   "cell_type": "code",
   "execution_count": 22,
   "metadata": {},
   "outputs": [],
   "source": [
    "with open('F:/Dataset/coco training/EntireDatasetCoco/EntireCoco.json', 'w') as json_file: #Here we make a new json file, which will be our entire dataset. \n",
    "    json.dump(data_out, json_file)"
   ]
  },
  {
   "cell_type": "code",
   "execution_count": null,
   "metadata": {},
   "outputs": [],
   "source": []
  }
 ],
 "metadata": {
  "colab": {
   "name": "Untitled2.ipynb",
   "provenance": []
  },
  "kernelspec": {
   "display_name": "Python 3",
   "language": "python",
   "name": "python3"
  },
  "language_info": {
   "codemirror_mode": {
    "name": "ipython",
    "version": 3
   },
   "file_extension": ".py",
   "mimetype": "text/x-python",
   "name": "python",
   "nbconvert_exporter": "python",
   "pygments_lexer": "ipython3",
   "version": "3.7.4"
  }
 },
 "nbformat": 4,
 "nbformat_minor": 4
}
